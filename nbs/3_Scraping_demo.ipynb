{
 "cells": [
  {
   "cell_type": "markdown",
   "id": "53da7247-5a38-44e1-8213-e53b576d8754",
   "metadata": {},
   "source": [
    "# Scraping demo with BeautifulSoup4 \n",
    "by [Real-Python](https://realpython.com/beautiful-soup-web-scraper-python/)"
   ]
  },
  {
   "cell_type": "markdown",
   "id": "2094a8fc-9912-4c51-a586-792e26395dcf",
   "metadata": {},
   "source": [
    "We are going to scrape a fake python jobs web page"
   ]
  },
  {
   "cell_type": "code",
   "execution_count": null,
   "id": "4b5d8d12-cb4f-4b54-b4da-0c8bd4ad4f21",
   "metadata": {},
   "outputs": [],
   "source": [
    "import requests\n",
    "from bs4 import BeautifulSoup"
   ]
  },
  {
   "cell_type": "code",
   "execution_count": null,
   "id": "7cad4bac-2b0d-419b-b39e-9fb9522a8aaf",
   "metadata": {},
   "outputs": [],
   "source": [
    "base_url = \"https://realpython.github.io/fake-jobs/\""
   ]
  },
  {
   "cell_type": "code",
   "execution_count": null,
   "id": "d1430ebf-1b94-4cc1-a272-33564e6d558d",
   "metadata": {},
   "outputs": [],
   "source": [
    "page = requests.get(base_url)"
   ]
  },
  {
   "cell_type": "markdown",
   "id": "b014aeae-6d17-42e2-a8c0-4134568d336a",
   "metadata": {},
   "source": [
    "1. Inspect the website in your browser\n",
    "2. Open the dev tools and take a look to all the html tags and css attributes"
   ]
  },
  {
   "cell_type": "code",
   "execution_count": null,
   "id": "e64397cf-8239-4327-8df7-ca2beb9737af",
   "metadata": {},
   "outputs": [],
   "source": [
    "soup = BeautifulSoup(page.content, \"html.parser\")"
   ]
  },
  {
   "cell_type": "markdown",
   "id": "e9457fc1-871b-4482-ae69-dbda4ee3dc13",
   "metadata": {},
   "source": [
    "### Find Elements by ID"
   ]
  },
  {
   "cell_type": "raw",
   "id": "9f21d5fe-7c99-4fc6-a18e-0ac9d835fb26",
   "metadata": {},
   "source": [
    "<div id=\"ResultsContainer\">\n",
    "  <!-- all the job listings -->\n",
    "</div>"
   ]
  },
  {
   "cell_type": "code",
   "execution_count": null,
   "id": "f11fca51-cdbd-431d-92b5-c8c100125c02",
   "metadata": {},
   "outputs": [],
   "source": [
    "results = soup.find(id=\"ResultsContainer\")"
   ]
  },
  {
   "cell_type": "code",
   "execution_count": null,
   "id": "3b39d8d5-aaec-4433-9951-ece8e60d5f18",
   "metadata": {},
   "outputs": [],
   "source": [
    "print(results.prettify())"
   ]
  },
  {
   "cell_type": "markdown",
   "id": "86f12d04-911d-4c13-b8e1-8d9d3f30808d",
   "metadata": {},
   "source": [
    "### Find Elements by HTML Class Name"
   ]
  },
  {
   "cell_type": "code",
   "execution_count": null,
   "id": "7f654511-1df5-4922-9573-6b237acab44e",
   "metadata": {},
   "outputs": [],
   "source": [
    "job_elements = results.find_all(\"div\", class_=\"card-content\")"
   ]
  },
  {
   "cell_type": "code",
   "execution_count": null,
   "id": "02954f5e-0035-4ce6-9f3e-1752b4d0b048",
   "metadata": {},
   "outputs": [],
   "source": [
    "for job_element in job_elements:\n",
    "    print(job_element, end=\"\\n\"*2)"
   ]
  },
  {
   "cell_type": "code",
   "execution_count": null,
   "id": "6d3fffa0-a37e-4ca9-80ba-bab21a1b3d1f",
   "metadata": {},
   "outputs": [],
   "source": [
    "for job_element in job_elements:\n",
    "    title_element = job_element.find(\"h2\", class_=\"title\")\n",
    "    company_element = job_element.find(\"h3\", class_=\"company\")\n",
    "    location_element = job_element.find(\"p\", class_=\"location\")\n",
    "    print(title_element)\n",
    "    print(company_element)\n",
    "    print(location_element)\n",
    "    print()"
   ]
  },
  {
   "cell_type": "markdown",
   "id": "c95d9b65-482d-4910-9c3c-a657c49be574",
   "metadata": {},
   "source": [
    "#### Extract Text From HTML Elements"
   ]
  },
  {
   "cell_type": "code",
   "execution_count": null,
   "id": "5ab65e70-a9b4-495b-82f4-5aa5e7820e3d",
   "metadata": {},
   "outputs": [],
   "source": [
    "for job_element in job_elements:\n",
    "    title_element = job_element.find(\"h2\", class_=\"title\")\n",
    "    company_element = job_element.find(\"h3\", class_=\"company\")\n",
    "    location_element = job_element.find(\"p\", class_=\"location\")\n",
    "    print(title_element.text.strip())\n",
    "    print(company_element.text.strip())\n",
    "    print(location_element.text.strip())\n",
    "    print()"
   ]
  },
  {
   "cell_type": "markdown",
   "id": "e5b34260-1f6c-4f5e-90a8-3aa9d14867f8",
   "metadata": {},
   "source": [
    "### Find Elements by Class Name and Text Content\n"
   ]
  },
  {
   "cell_type": "code",
   "execution_count": null,
   "id": "f2363441-dca8-42a1-bdef-1aa1b648fd34",
   "metadata": {},
   "outputs": [],
   "source": [
    "python_jobs = results.find_all(\"h2\", string=\"Python\")"
   ]
  },
  {
   "cell_type": "markdown",
   "id": "1fb2a75c-743b-4561-978c-b03a3afa952b",
   "metadata": {},
   "source": [
    "### Pass a Function to a Beautiful Soup Method"
   ]
  },
  {
   "cell_type": "code",
   "execution_count": null,
   "id": "86053cd3-b045-4c78-b5fb-c671ff56603a",
   "metadata": {},
   "outputs": [],
   "source": [
    "python_jobs = results.find_all(\n",
    "    \"h2\", string=lambda text: \"python\" in text.lower()\n",
    ")"
   ]
  },
  {
   "cell_type": "code",
   "execution_count": null,
   "id": "0113523c-bb9a-4351-843e-663eef742e4f",
   "metadata": {},
   "outputs": [],
   "source": [
    "print(python_jobs)"
   ]
  },
  {
   "cell_type": "markdown",
   "id": "159509f0-5fac-456c-94f1-681531b19d74",
   "metadata": {},
   "source": [
    "### Access Parent Elements"
   ]
  },
  {
   "cell_type": "code",
   "execution_count": null,
   "id": "69e1b44e-4994-4faf-ba68-07f608a07eb4",
   "metadata": {},
   "outputs": [],
   "source": [
    "python_job_elements = [\n",
    "    h2_element.parent.parent.parent for h2_element in python_jobs\n",
    "]"
   ]
  },
  {
   "cell_type": "markdown",
   "id": "4ac1010b-7d24-4f27-aa8f-1a5383bdfaa3",
   "metadata": {},
   "source": [
    "### Navigate through links"
   ]
  },
  {
   "cell_type": "code",
   "execution_count": null,
   "id": "b6962311-3d7c-4d06-861b-90a7d6979a72",
   "metadata": {},
   "outputs": [],
   "source": [
    "base_url = 'http://examplewebsite.com'\n",
    "with requests.Session() as session:  # maintaining a web-scraping session\n",
    "    soup = BeautifulSoup(session.get(base_url).content, \"html.parser\")\n",
    "\n",
    "    for link in soup.select(\"div.container a[href]\"):\n",
    "        full_link = urljoin(base_url, link[\"href\"])\n",
    "        new_page = session.get(full_link).content"
   ]
  }
 ],
 "metadata": {
  "kernelspec": {
   "display_name": "Python 3 (ipykernel)",
   "language": "python",
   "name": "python3"
  },
  "language_info": {
   "codemirror_mode": {
    "name": "ipython",
    "version": 3
   },
   "file_extension": ".py",
   "mimetype": "text/x-python",
   "name": "python",
   "nbconvert_exporter": "python",
   "pygments_lexer": "ipython3",
   "version": "3.9.10"
  }
 },
 "nbformat": 4,
 "nbformat_minor": 5
}
