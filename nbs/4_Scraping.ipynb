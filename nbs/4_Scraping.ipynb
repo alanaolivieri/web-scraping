{
 "cells": [
  {
   "cell_type": "markdown",
   "id": "2c4d72ed-eeef-4064-b7bb-d5989eace0db",
   "metadata": {},
   "source": [
    "# Web Scraping\n",
    "Find the best deal for the flat you want!!"
   ]
  },
  {
   "cell_type": "markdown",
   "id": "4ecba3ed-11fd-4305-8c09-7dca60870146",
   "metadata": {},
   "source": [
    "Goal: To scrap several web pages in order to find the desired flat in our desired price range"
   ]
  },
  {
   "cell_type": "markdown",
   "id": "a638b5c8-c6c2-4a3d-aaa4-dd3ef5519518",
   "metadata": {},
   "source": [
    "1. https://www.idealista.com/\n",
    "2. https://www.fotocasa.es/es/\n",
    "3. https://www.habitaclia.com/"
   ]
  },
  {
   "cell_type": "code",
   "execution_count": null,
   "id": "96e7b362-f04f-4732-871c-f9a19e06d173",
   "metadata": {},
   "outputs": [],
   "source": [
    "from urllib.parse import urljoin\n",
    "import requests\n",
    "from bs4 import BeautifulSoup"
   ]
  },
  {
   "cell_type": "code",
   "execution_count": null,
   "id": "77e29640-ec8c-4760-ab72-cd3b04464072",
   "metadata": {},
   "outputs": [],
   "source": [
    "base_url = \"https://www.idealista.com/\"\n",
    "filter_url = \"https://www.idealista.com/alquiler-viviendas/sant-cugat-del-valles-barcelona/con-de-tres-dormitorios,de-cuatro-cinco-habitaciones-o-mas,dos-banos,tres-banos-o-mas,mascotas/\""
   ]
  },
  {
   "cell_type": "code",
   "execution_count": null,
   "id": "4cac203e-aa84-49f3-8fd5-6223156103bb",
   "metadata": {},
   "outputs": [],
   "source": [
    "page = requests.get(filter_url)\n",
    "soup = BeautifulSoup(page.content, \"html.parser\")"
   ]
  },
  {
   "cell_type": "code",
   "execution_count": null,
   "id": "4396771d-6976-4241-a808-8ef2f5aaef67",
   "metadata": {},
   "outputs": [],
   "source": []
  },
  {
   "cell_type": "code",
   "execution_count": null,
   "id": "da7dcff2-0fe3-4583-9cf5-ac1aad1ff671",
   "metadata": {},
   "outputs": [],
   "source": []
  },
  {
   "cell_type": "code",
   "execution_count": null,
   "id": "65e5359a-977d-4272-9406-caec8c17fbb9",
   "metadata": {},
   "outputs": [],
   "source": []
  },
  {
   "cell_type": "code",
   "execution_count": null,
   "id": "0e672b64-e882-4a13-a0a8-543e14f2bd37",
   "metadata": {},
   "outputs": [],
   "source": []
  },
  {
   "cell_type": "code",
   "execution_count": null,
   "id": "22d37b39-8a5a-488d-becc-46d338884532",
   "metadata": {},
   "outputs": [],
   "source": []
  },
  {
   "cell_type": "code",
   "execution_count": null,
   "id": "4c883b24-adc8-4952-af7e-242ca4833fd0",
   "metadata": {},
   "outputs": [],
   "source": []
  },
  {
   "cell_type": "code",
   "execution_count": null,
   "id": "760589c3-92d7-4094-969e-cfda1b5211ec",
   "metadata": {},
   "outputs": [],
   "source": []
  },
  {
   "cell_type": "code",
   "execution_count": null,
   "id": "187d5e5e-1f0b-4fb2-b377-1a88fec32c4a",
   "metadata": {},
   "outputs": [],
   "source": []
  },
  {
   "cell_type": "code",
   "execution_count": null,
   "id": "7a4dc81f-5a5c-4c1e-9494-5a22d4208aa5",
   "metadata": {},
   "outputs": [],
   "source": []
  },
  {
   "cell_type": "code",
   "execution_count": null,
   "id": "955f8b4d-7278-43f7-965c-f37cc155aee9",
   "metadata": {},
   "outputs": [],
   "source": []
  },
  {
   "cell_type": "code",
   "execution_count": null,
   "id": "598bab05-322c-48e8-b123-8071b88232f6",
   "metadata": {},
   "outputs": [],
   "source": []
  },
  {
   "cell_type": "code",
   "execution_count": null,
   "id": "4769a53a-2702-4745-bddd-35dbd19f07f8",
   "metadata": {},
   "outputs": [],
   "source": []
  }
 ],
 "metadata": {
  "kernelspec": {
   "display_name": "Python 3 (ipykernel)",
   "language": "python",
   "name": "python3"
  },
  "language_info": {
   "codemirror_mode": {
    "name": "ipython",
    "version": 3
   },
   "file_extension": ".py",
   "mimetype": "text/x-python",
   "name": "python",
   "nbconvert_exporter": "python",
   "pygments_lexer": "ipython3",
   "version": "3.9.10"
  }
 },
 "nbformat": 4,
 "nbformat_minor": 5
}
